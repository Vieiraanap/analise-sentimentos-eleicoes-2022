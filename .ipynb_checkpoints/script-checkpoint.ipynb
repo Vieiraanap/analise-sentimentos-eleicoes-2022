{
 "cells": [
  {
   "cell_type": "code",
   "execution_count": null,
   "id": "a8d7017c",
   "metadata": {},
   "outputs": [],
   "source": [
    "#instalando bibliotecas utilizadas no projeto\n",
    "\n",
    "pip install pandas --quiet\n",
    "pip install tweepy --quiet\n",
    "pip install wordcloud --quiet\n",
    "pip install nltk --quiet\n",
    "pip install matplot --quiet"
   ]
  },
  {
   "cell_type": "code",
   "execution_count": null,
   "id": "dff6968d",
   "metadata": {},
   "outputs": [],
   "source": [
    "#import de bibliotecas\n",
    "\n",
    "import re\n",
    "import nltk\n",
    "import pandas as pd\n",
    "import tweepy as tw\n",
    "import matplotlib.pyplot as plt\n",
    "from wordcloud import WordCloud, STOPWORDS"
   ]
  },
  {
   "cell_type": "code",
   "execution_count": null,
   "id": "821a5d24",
   "metadata": {},
   "outputs": [],
   "source": [
    "# autenticação na api do twitter\n",
    "\n",
    "with open('bearer-token.txt', 'r') as tokenfile:\n",
    "    bearer_token = tokenfile.readline().strip('\\n')\n",
    "client = tw.Client(bearer_token)"
   ]
  },
  {
   "cell_type": "code",
   "execution_count": null,
   "id": "efe218b8",
   "metadata": {},
   "outputs": [],
   "source": [
    "# buscando tweets na api\n",
    "\n",
    "# query de busca pelas hashtags\n",
    "hashtag = \"#Eleições2022\"\n",
    "response = client.search_recent_tweets(hashtag, max_results=100)"
   ]
  },
  {
   "cell_type": "code",
   "execution_count": null,
   "id": "4bda5e65",
   "metadata": {},
   "outputs": [],
   "source": [
    "# atribuindo propriedade data do response a variável\n",
    "# o data é um objeto com todos os 100 tts que foram retornados\n",
    "# pela requisição anterior\n",
    "\n",
    "tts = response.data"
   ]
  },
  {
   "cell_type": "code",
   "execution_count": null,
   "id": "dd07b93e",
   "metadata": {},
   "outputs": [],
   "source": [
    "# imprimindo tweets (opcional)\n",
    "print(\"---------------------------------tts---------------------------------\")\n",
    "for tt in tts: \n",
    "    print(tt.text)\n",
    "    print( )"
   ]
  },
  {
   "cell_type": "code",
   "execution_count": null,
   "id": "096e3f72",
   "metadata": {
    "scrolled": false
   },
   "outputs": [],
   "source": [
    "# agrupar coleção de tweets em dataframes\n",
    "# somente o atributo text de cada tt é necessário\n",
    "# para a criação do dataframe\n",
    "\n",
    "lista_tts = [[tt.text] for tt in tts]\n",
    "dataframe = pd.DataFrame(lista_tts, columns=['Tweet-DF01'])"
   ]
  },
  {
   "cell_type": "code",
   "execution_count": null,
   "id": "85a21701",
   "metadata": {},
   "outputs": [],
   "source": [
    "# exibir os dataframes (opcional)\n",
    "pd.options.display.max_colwidth = 130 # tamanho máximo da coluna do dataframe"
   ]
  },
  {
   "cell_type": "code",
   "execution_count": null,
   "id": "9484dbac",
   "metadata": {},
   "outputs": [],
   "source": [
    "# exibe os primeiros 5 itens do dataframe\n",
    "dataframe.head() "
   ]
  },
  {
   "cell_type": "code",
   "execution_count": null,
   "id": "4b985191",
   "metadata": {},
   "outputs": [],
   "source": [
    "# agrupar tweets em uma única string para criação da wordcloud\n",
    "\n",
    "tts_string = pd.Series(dataframe['Tweet-DF01'].values).str.cat(sep=' ')# concatenação dos tts separados por espaço"
   ]
  },
  {
   "cell_type": "code",
   "execution_count": null,
   "id": "12bbe820",
   "metadata": {},
   "outputs": [],
   "source": [
    "# exibir as strings (opcional)\n",
    "print(\"---------------------------------tts_string---------------------------------\")\n",
    "tts_string"
   ]
  },
  {
   "cell_type": "code",
   "execution_count": null,
   "id": "9bcc1834",
   "metadata": {},
   "outputs": [],
   "source": [
    "# expressao regular para remover links\n",
    "url_regex = re.compile(r'http\\S+', re.I)\n",
    "\n",
    "# expressao regular para remover números\n",
    "number_regex = re.compile(r'[0-9]')\n",
    "\n",
    "# remocao de url's\n",
    "remove_url_string = url_regex.sub('', tts_string)\n",
    "\n",
    "# remocao de números\n",
    "clean_string = number_regex.sub('', remove_url_string)"
   ]
  },
  {
   "cell_type": "code",
   "execution_count": null,
   "id": "1908390d",
   "metadata": {},
   "outputs": [],
   "source": [
    "# exibir as strings sem URL's e números (opcional)\n",
    "print(\"---------------------------------clean_string---------------------------------\")\n",
    "clean_string"
   ]
  },
  {
   "cell_type": "code",
   "execution_count": null,
   "id": "1b5f3a28",
   "metadata": {},
   "outputs": [],
   "source": [
    "# remoção de caracteres especiais\n",
    "\n",
    "caracteres = '#@?!%'\n",
    "\n",
    "for i in range(len(caracteres)):\n",
    "    clean_string = clean_string.replace(caracteres[i], \"\")"
   ]
  },
  {
   "cell_type": "code",
   "execution_count": null,
   "id": "b476b42c",
   "metadata": {},
   "outputs": [],
   "source": [
    "# exibir as strings sem os caracteres especiais (opcional)\n",
    "print(\"---------------------------------clean_string---------------------------------\")\n",
    "clean_string"
   ]
  },
  {
   "cell_type": "code",
   "execution_count": null,
   "id": "33d19b18",
   "metadata": {},
   "outputs": [],
   "source": [
    "# download do pacote de stopwords da biblioteca nltk\n",
    "\n",
    "nltk.download('stopwords')"
   ]
  },
  {
   "cell_type": "code",
   "execution_count": null,
   "id": "ecedb6ac",
   "metadata": {},
   "outputs": [],
   "source": [
    "# definindo stopwords (palavras a serem excluídas da nuvem de palavras)\n",
    "\n",
    "# definindo stopwords em português\n",
    "pt_stopwords = nltk.corpus.stopwords.words('portuguese')\n",
    "\n",
    "# definindo stopwords identificadas nos tweets\n",
    "tt_stopwords = ['VEJA', 'pessoal', 'após', 'vc', 'dessa', 'vão', 'compartilhem', 'games', 'irmaospiol', 'irmaospiologo', 'modo', 'preparem', 'através', 'fail', 'xbox', 'pico', 'vcs', 'Leia', 'digam', 'desde', 'chamou',  'sabe', 'deveria', 'euMarinaMamede', 'choquei', 'JTabw', 'dias', 'tá', 'bar', 'vamos', 'faltam', 'falta', 'aí', 'dica', 'todos', 'foto', 'dono', 'todo', 'então', 'menos', 'fabiofcd', 'vídeo', 'cu', 'usar', 'anos', 'juntos', 'bem', 'ei', 'oi', 'dia', 'diz', 'têm', 'UOL', 'RT', 'Eleicoes', 'Eleições', 'rede', 'sexta', 'manhã', 'band', 'globo', 'sobre', 'feira', 'quero', 'diga', 'mês', 'vai', 'lugar', 'pró', 'pra', 'pau', 'quarta', 'gay', 'tudo', 'demais', 'nesta', 'logo', 'tamos', 'vou', 'dois', 'alguém', 'quero', 'queima', 'pro', 'sobre', 'hoje', 'noite', 'vivo', 'ZAP', 'tel']\n",
    "\n",
    "# definindo stopwords em inglês (presente na biblioteca wordcloud)\n",
    "cloud_stopwords = set(STOPWORDS)\n",
    "\n",
    "# concatenando as listas de stopwords\n",
    "cloud_stopwords.update(pt_stopwords) \n",
    "cloud_stopwords.update(tt_stopwords)"
   ]
  },
  {
   "cell_type": "code",
   "execution_count": null,
   "id": "f5b5e4c7",
   "metadata": {},
   "outputs": [],
   "source": [
    "# imprimindo lista com todas as stopwords definidas (opcional)\n",
    "cloud_stopwords"
   ]
  },
  {
   "cell_type": "code",
   "execution_count": null,
   "id": "942747db",
   "metadata": {},
   "outputs": [],
   "source": [
    "# gerando as wordclouds\n",
    "wordcloud = WordCloud(stopwords=cloud_stopwords, width=1600, height=800, max_font_size=200, max_words=50, collocations=False, background_color='white').generate(clean_string)\n",
    "plt.figure(figsize=(40, 30))\n",
    "plt.imshow(wordcloud, interpolation=\"bilinear\")\n",
    "plt.axis(\"off\")\n",
    "plt.show()"
   ]
  }
 ],
 "metadata": {
  "kernelspec": {
   "display_name": "Python 3 (ipykernel)",
   "language": "python",
   "name": "python3"
  },
  "language_info": {
   "codemirror_mode": {
    "name": "ipython",
    "version": 3
   },
   "file_extension": ".py",
   "mimetype": "text/x-python",
   "name": "python",
   "nbconvert_exporter": "python",
   "pygments_lexer": "ipython3",
   "version": "3.8.10"
  },
  "vscode": {
   "interpreter": {
    "hash": "916dbcbb3f70747c44a77c7bcd40155683ae19c65e1c03b4aa3499c5328201f1"
   }
  }
 },
 "nbformat": 4,
 "nbformat_minor": 5
}
